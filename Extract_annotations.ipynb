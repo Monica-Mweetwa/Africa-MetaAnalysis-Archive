{
 "cells": [
  {
   "cell_type": "markdown",
   "id": "8006003d",
   "metadata": {},
   "source": [
    "## Code to extract microbes annotated from bioc.json files"
   ]
  },
  {
   "cell_type": "markdown",
   "id": "a96d6db8",
   "metadata": {},
   "source": [
    "### Change working directory"
   ]
  },
  {
   "cell_type": "code",
   "execution_count": 1,
   "id": "0c74c7d2",
   "metadata": {},
   "outputs": [
    {
     "data": {
      "text/plain": [
       "'C:\\\\Users\\\\Monica\\\\Dropbox\\\\Africa-MetaAnalysis'"
      ]
     },
     "execution_count": 1,
     "metadata": {},
     "output_type": "execute_result"
    }
   ],
   "source": [
    "import os\n",
    "os.chdir('C:\\\\Users\\\\Monica\\\\Dropbox\\\\Africa-MetaAnalysis') \n",
    "os.getcwd( )"
   ]
  },
  {
   "cell_type": "markdown",
   "id": "8b610745",
   "metadata": {},
   "source": [
    "### Load necessary packages"
   ]
  },
  {
   "cell_type": "code",
   "execution_count": 2,
   "id": "725defa1",
   "metadata": {},
   "outputs": [],
   "source": [
    "import os\n",
    "import json\n",
    "import pandas as pd\n",
    "import csv"
   ]
  },
  {
   "cell_type": "markdown",
   "id": "1d516b60",
   "metadata": {},
   "source": [
    "### Define function to retrieve desired annotation from MicrobELP output"
   ]
  },
  {
   "cell_type": "code",
   "execution_count": 3,
   "id": "8aa8ef54",
   "metadata": {},
   "outputs": [],
   "source": [
    "def extract_annotations(in_dict, out_dict):\n",
    "    in_dict = in_dict      #Input bioc files\n",
    "    out_dict = out_dict    #Output file directory where output is created. \n",
    "    all_files = os.listdir(in_dict) \n",
    "    PMC_files=[] \n",
    "    for n in all_files:   \n",
    "        if  n.endswith('bioc.json'):  \n",
    "            PMC_files.append(n)\n",
    "\n",
    "    for i in range(len(PMC_files)):\n",
    "                    in_file = PMC_files[i]\n",
    "                    print(\"Extracting microbes from file: \", in_file, i + 1, \"of: \", len(PMC_files))\n",
    "                    with open(in_dict+ \"/\" + in_file) as m_file:\n",
    "                        if os.path.isfile(in_dict+ \"/\" + in_file) == True:\n",
    "                                print(\"Input file found\")\n",
    "                        data = json.load(m_file)\n",
    "                        annotations = []\n",
    "                        for document in data['documents']:\n",
    "                            for passage in document['passages']:\n",
    "                                text_info = passage['infons']\n",
    "                                section_id = text_info.get('iao_name_0')\n",
    "                                if 'annotations' in passage:\n",
    "                                    passages = passage['text']\n",
    "                                    for annotation in passage['annotations']:\n",
    "                                        text = annotation['text']\n",
    "                                        identifier = annotation['infons']['identifier']\n",
    "                                        rank = annotation['infons']['type']\n",
    "                                        annotations.append({'section' : section_id, 'passage' : passages, 'text' : text, 'identifier' : identifier, 'rank' : rank})\n",
    "                                        df = []\n",
    "                                        df = pd.DataFrame(annotations)\n",
    "                        for i in data: \n",
    "                                    df.to_csv(out_dict + '/' + str(in_file[:-10]) +'.csv')\n"
   ]
  },
  {
   "cell_type": "markdown",
   "id": "d1418cfd",
   "metadata": {},
   "source": [
    "### Implement Function"
   ]
  },
  {
   "cell_type": "code",
   "execution_count": 4,
   "id": "a7482e51",
   "metadata": {},
   "outputs": [],
   "source": [
    "extract_annotations(in_dict = 'C:/Users/Monica/Dropbox/Africa-MetaAnalysis/PaperAnnotation/MicrobELP/Final34_MicrobELP_json_files/All',\n",
    "                    out_dict = 'C:/Users/Monica/Dropbox/Africa-MetaAnalysis/PaperAnnotation/MicrobELP/Tables')"
   ]
  },
  {
   "cell_type": "code",
   "execution_count": null,
   "id": "d4ac54c0",
   "metadata": {},
   "outputs": [],
   "source": [
    "### Define function to retrieve desired annotation from Manual annotations in TeamTat"
   ]
  },
  {
   "cell_type": "code",
   "execution_count": 8,
   "id": "e74cec65-b558-45a1-8b49-f4481f067bac",
   "metadata": {},
   "outputs": [],
   "source": [
    "def extract_annotations(in_dict, out_dict):\n",
    "    in_dict = in_dict      #Input bioc files\n",
    "    out_dict = out_dict    #Output file directory where output is created. \n",
    "    all_files = os.listdir(in_dict) \n",
    "    PMC_files=[] \n",
    "    for n in all_files:   \n",
    "        if  n.endswith('v4.json'):  \n",
    "            PMC_files.append(n)\n",
    "\n",
    "    for i in range(len(PMC_files)):\n",
    "                    in_file = PMC_files[i]\n",
    "                    print(\"Extracting microbes from file: \", in_file, i + 1, \"of: \", len(PMC_files))\n",
    "                    with open(in_dict+ \"/\" + in_file) as m_file:\n",
    "                        if os.path.isfile(in_dict+ \"/\" + in_file) == True:\n",
    "                                print(\"Input file found\")\n",
    "                        data = json.load(m_file)\n",
    "                        annotations = []\n",
    "                        for document in data['documents']:\n",
    "                            for passage in document['passages']:\n",
    "                                text_info = passage['infons']\n",
    "                                SectionName = text_info.get('iao_name_1')\n",
    "                                SectionCode = text_info.get('iao_id_1')\n",
    "                                if 'annotations' in passage:\n",
    "                                    passages = passage['text']\n",
    "                                    for annotation in passage['annotations']:\n",
    "                                        text = annotation['text']\n",
    "                                        identifier = annotation['infons']['identifier']\n",
    "                                        rank = annotation['infons']['type']\n",
    "                                        annotations.append({'section' : SectionName, 'SectionCode' : SectionCode, 'passage' : passages, 'text' : text, 'identifier' : identifier, 'rank' : rank})\n",
    "                                        df = []\n",
    "                                        df = pd.DataFrame(annotations)\n",
    "                        for i in data: \n",
    "                                    df.to_csv(out_dict + '/' + str(in_file[:-8]) +'.csv')\n"
   ]
  },
  {
   "cell_type": "code",
   "execution_count": 9,
   "id": "9a7bb5e3-ad93-4da8-bc22-67435bfc6395",
   "metadata": {},
   "outputs": [
    {
     "name": "stdout",
     "output_type": "stream",
     "text": [
      "Extracting microbes from file:  PMC10620469_v4.json 1 of:  35\n",
      "Input file found\n",
      "Extracting microbes from file:  PMC4558878_v4.json 2 of:  35\n",
      "Input file found\n",
      "Extracting microbes from file:  PMC4586842_v4.json 3 of:  35\n",
      "Input file found\n",
      "Extracting microbes from file:  PMC4714756_v4.json 4 of:  35\n",
      "Input file found\n",
      "Extracting microbes from file:  PMC5303055_v4.json 5 of:  35\n",
      "Input file found\n",
      "Extracting microbes from file:  PMC6130352_v4.json 6 of:  35\n",
      "Input file found\n",
      "Extracting microbes from file:  PMC6838574_v4.json 7 of:  35\n",
      "Input file found\n",
      "Extracting microbes from file:  PMC7310680_v4.json 8 of:  35\n",
      "Input file found\n",
      "Extracting microbes from file:  PMC7356459_v4.json 9 of:  35\n",
      "Input file found\n",
      "Extracting microbes from file:  PMC7428392_v4.json 10 of:  35\n",
      "Input file found\n",
      "Extracting microbes from file:  PMC7524335_v4.json 11 of:  35\n",
      "Input file found\n",
      "Extracting microbes from file:  PMC7612197_v4.json 12 of:  35\n",
      "Input file found\n",
      "Extracting microbes from file:  PMC7837488_v4.json 13 of:  35\n",
      "Input file found\n",
      "Extracting microbes from file:  PMC7993600_v4.json 14 of:  35\n",
      "Input file found\n",
      "Extracting microbes from file:  PMC8149470_v4.json 15 of:  35\n",
      "Input file found\n",
      "Extracting microbes from file:  PMC8550991_v4.json 16 of:  35\n",
      "Input file found\n",
      "Extracting microbes from file:  PMC8846364_v4.json 17 of:  35\n",
      "Input file found\n",
      "Extracting microbes from file:  PMC9119516_v4.json 18 of:  35\n",
      "Input file found\n",
      "Extracting microbes from file:  PMC9573096_v4.json 19 of:  35\n",
      "Input file found\n",
      "Extracting microbes from file:  PMC9833071_v4.json 20 of:  35\n",
      "Input file found\n",
      "Extracting microbes from file:  PMC9929340_v4.json 21 of:  35\n",
      "Input file found\n",
      "Extracting microbes from file:  PMCPMC10005232_v4.json 22 of:  35\n",
      "Input file found\n",
      "Extracting microbes from file:  PMCPMC10133260_v4.json 23 of:  35\n",
      "Input file found\n",
      "Extracting microbes from file:  PMCPMC11179573_v4.json 24 of:  35\n",
      "Input file found\n",
      "Extracting microbes from file:  PMCPMC3999041_v4.json 25 of:  35\n",
      "Input file found\n",
      "Extracting microbes from file:  PMCPMC4189846_v4.json 26 of:  35\n",
      "Input file found\n",
      "Extracting microbes from file:  PMCPMC4881907_v4.json 27 of:  35\n",
      "Input file found\n",
      "Extracting microbes from file:  PMCPMC6683325_v4.json 28 of:  35\n",
      "Input file found\n",
      "Extracting microbes from file:  PMCPMC6763478_v4.json 29 of:  35\n",
      "Input file found\n",
      "Extracting microbes from file:  PMCPMC7013830_v4.json 30 of:  35\n",
      "Input file found\n",
      "Extracting microbes from file:  PMCPMC7289524_v4.json 31 of:  35\n",
      "Input file found\n",
      "Extracting microbes from file:  PMCPMC7568645_v4.json 32 of:  35\n",
      "Input file found\n",
      "Extracting microbes from file:  PMCPMC8085102_v4.json 33 of:  35\n",
      "Input file found\n",
      "Extracting microbes from file:  PMCPMC8121364_v4.json 34 of:  35\n",
      "Input file found\n",
      "Extracting microbes from file:  PMCPMC8602372_v4.json 35 of:  35\n",
      "Input file found\n"
     ]
    }
   ],
   "source": [
    "extract_annotations(in_dict = 'C:/Users/Monica/Dropbox/Africa-MetaAnalysis/PaperAnnotation/Manual/p98_MalnutritionNER_v4_json',\n",
    "                    out_dict = 'C:/Users/Monica/Dropbox/Africa-MetaAnalysis/PaperAnnotation/Manual/Tables')"
   ]
  },
  {
   "cell_type": "code",
   "execution_count": null,
   "id": "7229abda-aec4-4526-a5ee-f55087873d0d",
   "metadata": {},
   "outputs": [],
   "source": []
  }
 ],
 "metadata": {
  "kernelspec": {
   "display_name": "Python 3 (ipykernel)",
   "language": "python",
   "name": "python3"
  },
  "language_info": {
   "codemirror_mode": {
    "name": "ipython",
    "version": 3
   },
   "file_extension": ".py",
   "mimetype": "text/x-python",
   "name": "python",
   "nbconvert_exporter": "python",
   "pygments_lexer": "ipython3",
   "version": "3.12.7"
  }
 },
 "nbformat": 4,
 "nbformat_minor": 5
}
